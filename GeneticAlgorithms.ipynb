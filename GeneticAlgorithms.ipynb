{
 "cells": [
  {
   "cell_type": "code",
   "execution_count": 1,
   "id": "52633430-cfc9-46f1-8169-17034af542bd",
   "metadata": {
    "tags": []
   },
   "outputs": [],
   "source": [
    "import warnings\n",
    "warnings.filterwarnings('ignore')\n",
    "import numpy as np\n",
    "import pandas as pd\n",
    "import matplotlib.pyplot as plt"
   ]
  },
  {
   "cell_type": "markdown",
   "id": "a4596ab3-89f6-4232-b5af-d66c7508a512",
   "metadata": {},
   "source": [
    "### Losujemy miasta do odwiedzenia\n",
    "\n",
    "- **number_of_points**: liczba miast do odwiedzenia\n",
    "- **max_value**: max wartosc wspolrzednych X i Y"
   ]
  },
  {
   "cell_type": "code",
   "execution_count": 2,
   "id": "caf34be3-7db5-4825-adb6-41940526bc35",
   "metadata": {
    "tags": []
   },
   "outputs": [],
   "source": [
    "def random_points(number_of_points, max_value):\n",
    "    np.random.seed(14)\n",
    "    x = np.random.uniform(0, max_value, number_of_points)\n",
    "    y = np.random.uniform(0, max_value, number_of_points)\n",
    "    cites_df = pd.DataFrame({'X': x, 'Y': y})\n",
    "    cites_df.index.name = 'City number'\n",
    "    return cites_df"
   ]
  },
  {
   "cell_type": "code",
   "execution_count": 3,
   "id": "f8b760ff-78bc-4ba9-88a7-9135e1ea59df",
   "metadata": {
    "tags": []
   },
   "outputs": [],
   "source": [
    "cities_df = random_points(30, 200)\n"
   ]
  },
  {
   "cell_type": "markdown",
   "id": "56b2277e-83cc-4c34-893b-3e784c375cd6",
   "metadata": {},
   "source": [
    "### Generujemy populację początkową\n",
    "- **population_size**: rozmiar populacji\n",
    "- **cities_df**: DataFrame ze wspolrzednymi miast "
   ]
  },
  {
   "cell_type": "code",
   "execution_count": 4,
   "id": "36ffc938-a8de-451f-8992-87249b6cef43",
   "metadata": {
    "tags": []
   },
   "outputs": [],
   "source": [
    "def generate_population(population_size, cities_df):\n",
    "    population = []\n",
    "    for i in range(population_size):\n",
    "        population.append(np.random.permutation(cities_df.index))\n",
    "    population_df = pd.DataFrame(population)\n",
    "    population_df.index.name = 'Numer osobnika'\n",
    "    population_df.columns.names = ['Numer chromosomu']\n",
    "    return population_df"
   ]
  },
  {
   "cell_type": "code",
   "execution_count": 5,
   "id": "23cefa5f-eea8-4d5a-818e-9dbd221335cf",
   "metadata": {
    "tags": []
   },
   "outputs": [],
   "source": [
    "population_df = generate_population(50, cities_df)\n"
   ]
  },
  {
   "cell_type": "markdown",
   "id": "eb9410c1-ced6-46b9-ae4d-1506c4a8793e",
   "metadata": {},
   "source": [
    "### Oceniamy populacje"
   ]
  },
  {
   "cell_type": "code",
   "execution_count": 6,
   "id": "9949c399-0bc6-4d84-b05c-2c87cc4c088d",
   "metadata": {
    "tags": []
   },
   "outputs": [],
   "source": [
    "def rate_population(population_df, cities_df):\n",
    "        # ocena populacji\n",
    "        #np.sum(np.sqrt((temp_df['X']**2 - temp_df['Y']**2)))\n",
    "        distances = []\n",
    "        for osobnik in range(len(population_df)):\n",
    "            temp = population_df.loc[osobnik]\n",
    "            temp2 = cities_df.loc[temp]\n",
    "            distance = np.sum(np.sqrt(np.diff(temp2['X'])**2 + np.diff(temp2['Y'])**2))\n",
    "            distances.append(distance)\n",
    "        population_df['distance'] = distances\n",
    "        return population_df.sort_values(by='distance', ascending=True)"
   ]
  },
  {
   "cell_type": "code",
   "execution_count": 7,
   "id": "a3879a5f-d105-4e15-95a5-cde8cb88835f",
   "metadata": {
    "tags": []
   },
   "outputs": [],
   "source": [
    "rated_population = rate_population(population_df, cities_df)\n"
   ]
  },
  {
   "cell_type": "markdown",
   "id": "679d4717-a1f5-4f7f-8363-3d2f993c8352",
   "metadata": {},
   "source": [
    "**Wybieramy num_of_infividuals najlepszych osobników**"
   ]
  },
  {
   "cell_type": "code",
   "execution_count": 21,
   "id": "3f842296-ce91-4574-8ca8-4117b7632c1a",
   "metadata": {},
   "outputs": [],
   "source": [
    "def selection(population_df, method, num_of_indiviudals):\n",
    "    # while num of samples\n",
    "    if method == 'simple':\n",
    "            # choose the best ones\n",
    "        selected_df = population_df.iloc[:num_of_indiviudals]\n",
    "    # teraz musze tak ugotowac, zeby wybrac num najlepszych rodzicow \n",
    "    # i potem z nich losowo wylosowac jednego z tych wybrancow\n",
    "        selected_ix = np.random.choice(selected_df.index, size=1)\n",
    "        selected = selected_df.loc[selected_ix]\n",
    "    return selected"
   ]
  },
  {
   "cell_type": "markdown",
   "id": "9862758f-db70-491b-97d7-51c2d24f217c",
   "metadata": {},
   "source": [
    "**Krzyżowanie**"
   ]
  },
  {
   "cell_type": "code",
   "execution_count": 42,
   "id": "23543f62-17ce-47b9-9273-77883ea1c04f",
   "metadata": {
    "tags": []
   },
   "outputs": [],
   "source": [
    "# parent1 i parent2 to juz są pojedyncze osobniki, które stają się rodzicami\n",
    "def crossover(parent_1, parent_2):\n",
    "    size = len(parent_1)\n",
    "    # losuje losowy index osobnika, ktory bedzie podlegal krzyzowaniu\n",
    "    start, end = sorted(np.random.choice(a=size, size=2, replace=False))\n",
    "    \n",
    "    # inicjalizuje sobie puste dzieci\n",
    "    child_1 = -np.ones(size, dtype=int)\n",
    "    child_2 = -np.ones(size, dtype=int)\n",
    "    \n",
    "    # przypisuje dziecom skrzyzowane punkty rodzica w wycinku\n",
    "    child_1[start:end+1] = parent_2[start:end+1]\n",
    "    child_2[start:end+1] = parent_1[start:end+1]\n",
    "    \n",
    "    \n",
    "    # dopisuje reszte tak, zeby nie bylo powtorek\n",
    "    def fill_child(child, donor_parent, segment_parent):\n",
    "        for i in range(size):\n",
    "            if i < start or i > end:\n",
    "                candidate = donor_parent[i]\n",
    "                while candidate in child:\n",
    "                    # Znajdź odpowiednik w drugim rodzicu\n",
    "                    pos = np.where(segment_parent == candidate)[0][0]\n",
    "                    candidate = donor_parent[pos]\n",
    "                child[i] = candidate\n",
    "                \n",
    "                \n",
    "    fill_child(child_1, parent_2, parent_1)\n",
    "    fill_child(child_2, parent_1, parent_2)\n",
    "    \n",
    "    return child_1, child_2"
   ]
  },
  {
   "cell_type": "markdown",
   "id": "2410a948-ca8a-47ad-a3b4-226ec2e9b7e4",
   "metadata": {},
   "source": [
    "**Mutacja**"
   ]
  },
  {
   "cell_type": "code",
   "execution_count": 43,
   "id": "2d366571-5d5c-4051-897b-9a8c9cc836ec",
   "metadata": {
    "tags": []
   },
   "outputs": [],
   "source": [
    "# dostaje osobnika na wejscie\n",
    "def mutate(individual):\n",
    "    # losuje 2 indexy \n",
    "    size = len(individual)\n",
    "    first, second = np.random.choice(a=size, size=2, replace=False)\n",
    "    individual[first], individual[second] = individual[second], individual[first]\n",
    "    return individual"
   ]
  },
  {
   "cell_type": "markdown",
   "id": "a30e9482-232e-4d15-8617-5db5d9dd85db",
   "metadata": {},
   "source": [
    "**Nowa populacja**"
   ]
  },
  {
   "cell_type": "code",
   "execution_count": 54,
   "id": "784ebd2f-1e6b-4718-b54e-56328d348305",
   "metadata": {
    "tags": []
   },
   "outputs": [],
   "source": [
    "# dostaje posortowany df populacji\n",
    "\n",
    "'''\n",
    "zdaje sie, ze w generate new population cos jest zjebane, \n",
    "albo wybierany rodzicow, moze nie powinni byc kolo siebie tylko losowi kurwa \n",
    "losowi z najlepszuch \n",
    "plus sukcesja czyli populacja caly czas taki sam ma rozmiar tylko trzeba dopelniac innymi osobnikami\n",
    "'''\n",
    "def generate_new_population(population_df, size, succession_size, crossover_prob, mutation_prob):\n",
    "    #parents = selection(population_df, 'simple', 1)\n",
    "    #parents = parents.drop(['distance'], axis=1)\n",
    "    elite = population_df.iloc[succession_size].copy()\n",
    "    new_population = []\n",
    "    while len(new_population) < size - succession_size:\n",
    "        parent_1 = selection(population_df, 'simple', 1).drop(['distance'], axis=1).iloc[0]\n",
    "        parent_2 = selection(population_df, 'simple', 1).drop(['distance'], axis=1).iloc[0]\n",
    "        if np.random.random() <= crossover_prob:\n",
    "            child_1, child_2 = crossover(parent_1, parent_2)\n",
    "        else:\n",
    "            child_1, child_2 = parent_1.copy(), parent_2.copy()\n",
    "        if np.random.random() <= mutation_prob:\n",
    "            child_1 = mutate(child_1.copy())\n",
    "        if np.random.random() <= mutation_prob:\n",
    "            child_2 = mutate(child_2.copy())\n",
    "\n",
    "        new_population.append(child_1)\n",
    "        new_population.append(child_2)\n",
    "    new_population_df = pd.DataFrame(new_population)\n",
    "    new_population_df.index.name = 'Numer osobnika'\n",
    "    new_population_df.columns.names = ['Numer chromosomu']\n",
    "    return new_population_df"
   ]
  },
  {
   "cell_type": "code",
   "execution_count": 59,
   "id": "2c432283-ab17-4e8a-864f-bf75a11f3c4c",
   "metadata": {
    "tags": []
   },
   "outputs": [
    {
     "name": "stdout",
     "output_type": "stream",
     "text": [
      "5 best individuals from 1st population:\n",
      " Numer osobnika\n",
      "36    686.790148\n",
      "31    732.116776\n",
      "21    736.467253\n",
      "24    752.495188\n",
      "45    805.490591\n",
      "Name: distance, dtype: float64\n"
     ]
    },
    {
     "data": {
      "text/plain": [
       "Numer osobnika\n",
       "0     686.790148\n",
       "23    686.790148\n",
       "22    686.790148\n",
       "21    686.790148\n",
       "20    686.790148\n",
       "19    686.790148\n",
       "18    686.790148\n",
       "17    686.790148\n",
       "16    686.790148\n",
       "15    686.790148\n",
       "14    686.790148\n",
       "13    686.790148\n",
       "12    686.790148\n",
       "11    686.790148\n",
       "10    686.790148\n",
       "9     686.790148\n",
       "8     686.790148\n",
       "7     686.790148\n",
       "6     686.790148\n",
       "5     686.790148\n",
       "4     686.790148\n",
       "3     686.790148\n",
       "2     686.790148\n",
       "1     686.790148\n",
       "24    686.790148\n",
       "25    686.790148\n",
       "Name: distance, dtype: float64"
      ]
     },
     "execution_count": 59,
     "metadata": {},
     "output_type": "execute_result"
    }
   ],
   "source": [
    "# tworze sb randomowe miasta\n",
    "cities_df = random_points(10, 200) # 30 roznych miast do odwiedzenia\n",
    "# tworze pierwsza losowa populacje\n",
    "population_df = generate_population(50, cities_df) # pierwsza populacja ma 100 osobnikow\n",
    "# oceniam ta pierwsza losowa populacje\n",
    "population_df = rate_population(population_df, cities_df)\n",
    "print(f'5 best individuals from 1st population:\\n {population_df[\"distance\"].head()}')\n",
    "new_population = rate_population(generate_new_population(population_df, size=30, succession_size=4, crossover_prob=0.85, mutation_prob=0.05), cities_df)\n",
    "new_population['distance']\n",
    "# new_population = generate_new_population(population_df, 8, 1, 0.05)\n",
    "# rate_population(new_population, cities_df)"
   ]
  },
  {
   "cell_type": "code",
   "execution_count": 56,
   "id": "61aaac94-c8aa-4afb-b741-59b2744b3f82",
   "metadata": {
    "tags": []
   },
   "outputs": [],
   "source": [
    "def genetic_algorithm(num_of_cities, max_value, population_size, crossover_prob, mutation_prob):\n",
    "    cities_df = random_points(num_of_cities, max_value)\n",
    "    population_df = rate_population(generate_population(population_size, cities_df), cities_df)\n",
    "    new_population = rate_population(generate_new_population(population_df, 2000, 4, 0.8, 0.1), cities_df)\n",
    "    for i in range(300):\n",
    "        new_population = rate_population(generate_new_population(new_population, 1000, 4, 0.8, 0.1), cities_df)\n",
    "        mean_error = new_population['distance'].min()\n",
    "        print(f'Population number {i}, min error = {mean_error}')"
   ]
  },
  {
   "cell_type": "code",
   "execution_count": 57,
   "id": "2aa85ec5-8929-474d-a162-b22ec814a645",
   "metadata": {
    "tags": []
   },
   "outputs": [
    {
     "ename": "KeyError",
     "evalue": "0",
     "output_type": "error",
     "traceback": [
      "\u001b[1;31m---------------------------------------------------------------------------\u001b[0m",
      "\u001b[1;31mKeyError\u001b[0m                                  Traceback (most recent call last)",
      "File \u001b[1;32m~\\anaconda3\\Lib\\site-packages\\pandas\\core\\indexes\\base.py:3791\u001b[0m, in \u001b[0;36mIndex.get_loc\u001b[1;34m(self, key)\u001b[0m\n\u001b[0;32m   3790\u001b[0m \u001b[38;5;28;01mtry\u001b[39;00m:\n\u001b[1;32m-> 3791\u001b[0m     \u001b[38;5;28;01mreturn\u001b[39;00m \u001b[38;5;28;43mself\u001b[39;49m\u001b[38;5;241;43m.\u001b[39;49m\u001b[43m_engine\u001b[49m\u001b[38;5;241;43m.\u001b[39;49m\u001b[43mget_loc\u001b[49m\u001b[43m(\u001b[49m\u001b[43mcasted_key\u001b[49m\u001b[43m)\u001b[49m\n\u001b[0;32m   3792\u001b[0m \u001b[38;5;28;01mexcept\u001b[39;00m \u001b[38;5;167;01mKeyError\u001b[39;00m \u001b[38;5;28;01mas\u001b[39;00m err:\n",
      "File \u001b[1;32mindex.pyx:152\u001b[0m, in \u001b[0;36mpandas._libs.index.IndexEngine.get_loc\u001b[1;34m()\u001b[0m\n",
      "File \u001b[1;32mindex.pyx:176\u001b[0m, in \u001b[0;36mpandas._libs.index.IndexEngine.get_loc\u001b[1;34m()\u001b[0m\n",
      "File \u001b[1;32mindex.pyx:219\u001b[0m, in \u001b[0;36mpandas._libs.index.IndexEngine._get_loc_duplicates\u001b[1;34m()\u001b[0m\n",
      "File \u001b[1;32mindex.pyx:227\u001b[0m, in \u001b[0;36mpandas._libs.index.IndexEngine._maybe_get_bool_indexer\u001b[1;34m()\u001b[0m\n",
      "File \u001b[1;32mindex.pyx:119\u001b[0m, in \u001b[0;36mpandas._libs.index._unpack_bool_indexer\u001b[1;34m()\u001b[0m\n",
      "\u001b[1;31mKeyError\u001b[0m: 0",
      "\nThe above exception was the direct cause of the following exception:\n",
      "\u001b[1;31mKeyError\u001b[0m                                  Traceback (most recent call last)",
      "Cell \u001b[1;32mIn[57], line 1\u001b[0m\n\u001b[1;32m----> 1\u001b[0m \u001b[43mgenetic_algorithm\u001b[49m\u001b[43m(\u001b[49m\u001b[38;5;241;43m20\u001b[39;49m\u001b[43m,\u001b[49m\u001b[43m \u001b[49m\u001b[38;5;241;43m1000\u001b[39;49m\u001b[43m,\u001b[49m\u001b[43m \u001b[49m\u001b[38;5;241;43m600\u001b[39;49m\u001b[43m,\u001b[49m\u001b[43m \u001b[49m\u001b[38;5;241;43m0.75\u001b[39;49m\u001b[43m,\u001b[49m\u001b[43m \u001b[49m\u001b[38;5;241;43m0.05\u001b[39;49m\u001b[43m)\u001b[49m\n",
      "Cell \u001b[1;32mIn[56], line 4\u001b[0m, in \u001b[0;36mgenetic_algorithm\u001b[1;34m(num_of_cities, max_value, population_size, crossover_prob, mutation_prob)\u001b[0m\n\u001b[0;32m      2\u001b[0m cities_df \u001b[38;5;241m=\u001b[39m random_points(num_of_cities, max_value)\n\u001b[0;32m      3\u001b[0m population_df \u001b[38;5;241m=\u001b[39m rate_population(generate_population(population_size, cities_df), cities_df)\n\u001b[1;32m----> 4\u001b[0m new_population \u001b[38;5;241m=\u001b[39m \u001b[43mrate_population\u001b[49m\u001b[43m(\u001b[49m\u001b[43mgenerate_new_population\u001b[49m\u001b[43m(\u001b[49m\u001b[43mpopulation_df\u001b[49m\u001b[43m,\u001b[49m\u001b[43m \u001b[49m\u001b[38;5;241;43m2000\u001b[39;49m\u001b[43m,\u001b[49m\u001b[43m \u001b[49m\u001b[38;5;241;43m4\u001b[39;49m\u001b[43m,\u001b[49m\u001b[43m \u001b[49m\u001b[38;5;241;43m0.8\u001b[39;49m\u001b[43m,\u001b[49m\u001b[43m \u001b[49m\u001b[38;5;241;43m0.1\u001b[39;49m\u001b[43m)\u001b[49m\u001b[43m,\u001b[49m\u001b[43m \u001b[49m\u001b[43mcities_df\u001b[49m\u001b[43m)\u001b[49m\n\u001b[0;32m      5\u001b[0m \u001b[38;5;28;01mfor\u001b[39;00m i \u001b[38;5;129;01min\u001b[39;00m \u001b[38;5;28mrange\u001b[39m(\u001b[38;5;241m300\u001b[39m):\n\u001b[0;32m      6\u001b[0m     new_population \u001b[38;5;241m=\u001b[39m rate_population(generate_new_population(new_population, \u001b[38;5;241m1000\u001b[39m, \u001b[38;5;241m4\u001b[39m, \u001b[38;5;241m0.8\u001b[39m, \u001b[38;5;241m0.1\u001b[39m), cities_df)\n",
      "Cell \u001b[1;32mIn[6], line 6\u001b[0m, in \u001b[0;36mrate_population\u001b[1;34m(population_df, cities_df)\u001b[0m\n\u001b[0;32m      4\u001b[0m distances \u001b[38;5;241m=\u001b[39m []\n\u001b[0;32m      5\u001b[0m \u001b[38;5;28;01mfor\u001b[39;00m osobnik \u001b[38;5;129;01min\u001b[39;00m \u001b[38;5;28mrange\u001b[39m(\u001b[38;5;28mlen\u001b[39m(population_df)):\n\u001b[1;32m----> 6\u001b[0m     temp \u001b[38;5;241m=\u001b[39m \u001b[43mpopulation_df\u001b[49m\u001b[38;5;241;43m.\u001b[39;49m\u001b[43mloc\u001b[49m\u001b[43m[\u001b[49m\u001b[43mosobnik\u001b[49m\u001b[43m]\u001b[49m\n\u001b[0;32m      7\u001b[0m     temp2 \u001b[38;5;241m=\u001b[39m cities_df\u001b[38;5;241m.\u001b[39mloc[temp]\n\u001b[0;32m      8\u001b[0m     distance \u001b[38;5;241m=\u001b[39m np\u001b[38;5;241m.\u001b[39msum(np\u001b[38;5;241m.\u001b[39msqrt(np\u001b[38;5;241m.\u001b[39mdiff(temp2[\u001b[38;5;124m'\u001b[39m\u001b[38;5;124mX\u001b[39m\u001b[38;5;124m'\u001b[39m])\u001b[38;5;241m*\u001b[39m\u001b[38;5;241m*\u001b[39m\u001b[38;5;241m2\u001b[39m \u001b[38;5;241m+\u001b[39m np\u001b[38;5;241m.\u001b[39mdiff(temp2[\u001b[38;5;124m'\u001b[39m\u001b[38;5;124mY\u001b[39m\u001b[38;5;124m'\u001b[39m])\u001b[38;5;241m*\u001b[39m\u001b[38;5;241m*\u001b[39m\u001b[38;5;241m2\u001b[39m))\n",
      "File \u001b[1;32m~\\anaconda3\\Lib\\site-packages\\pandas\\core\\indexing.py:1153\u001b[0m, in \u001b[0;36m_LocationIndexer.__getitem__\u001b[1;34m(self, key)\u001b[0m\n\u001b[0;32m   1150\u001b[0m axis \u001b[38;5;241m=\u001b[39m \u001b[38;5;28mself\u001b[39m\u001b[38;5;241m.\u001b[39maxis \u001b[38;5;129;01mor\u001b[39;00m \u001b[38;5;241m0\u001b[39m\n\u001b[0;32m   1152\u001b[0m maybe_callable \u001b[38;5;241m=\u001b[39m com\u001b[38;5;241m.\u001b[39mapply_if_callable(key, \u001b[38;5;28mself\u001b[39m\u001b[38;5;241m.\u001b[39mobj)\n\u001b[1;32m-> 1153\u001b[0m \u001b[38;5;28;01mreturn\u001b[39;00m \u001b[38;5;28;43mself\u001b[39;49m\u001b[38;5;241;43m.\u001b[39;49m\u001b[43m_getitem_axis\u001b[49m\u001b[43m(\u001b[49m\u001b[43mmaybe_callable\u001b[49m\u001b[43m,\u001b[49m\u001b[43m \u001b[49m\u001b[43maxis\u001b[49m\u001b[38;5;241;43m=\u001b[39;49m\u001b[43maxis\u001b[49m\u001b[43m)\u001b[49m\n",
      "File \u001b[1;32m~\\anaconda3\\Lib\\site-packages\\pandas\\core\\indexing.py:1393\u001b[0m, in \u001b[0;36m_LocIndexer._getitem_axis\u001b[1;34m(self, key, axis)\u001b[0m\n\u001b[0;32m   1391\u001b[0m \u001b[38;5;66;03m# fall thru to straight lookup\u001b[39;00m\n\u001b[0;32m   1392\u001b[0m \u001b[38;5;28mself\u001b[39m\u001b[38;5;241m.\u001b[39m_validate_key(key, axis)\n\u001b[1;32m-> 1393\u001b[0m \u001b[38;5;28;01mreturn\u001b[39;00m \u001b[38;5;28;43mself\u001b[39;49m\u001b[38;5;241;43m.\u001b[39;49m\u001b[43m_get_label\u001b[49m\u001b[43m(\u001b[49m\u001b[43mkey\u001b[49m\u001b[43m,\u001b[49m\u001b[43m \u001b[49m\u001b[43maxis\u001b[49m\u001b[38;5;241;43m=\u001b[39;49m\u001b[43maxis\u001b[49m\u001b[43m)\u001b[49m\n",
      "File \u001b[1;32m~\\anaconda3\\Lib\\site-packages\\pandas\\core\\indexing.py:1343\u001b[0m, in \u001b[0;36m_LocIndexer._get_label\u001b[1;34m(self, label, axis)\u001b[0m\n\u001b[0;32m   1341\u001b[0m \u001b[38;5;28;01mdef\u001b[39;00m \u001b[38;5;21m_get_label\u001b[39m(\u001b[38;5;28mself\u001b[39m, label, axis: AxisInt):\n\u001b[0;32m   1342\u001b[0m     \u001b[38;5;66;03m# GH#5567 this will fail if the label is not present in the axis.\u001b[39;00m\n\u001b[1;32m-> 1343\u001b[0m     \u001b[38;5;28;01mreturn\u001b[39;00m \u001b[38;5;28;43mself\u001b[39;49m\u001b[38;5;241;43m.\u001b[39;49m\u001b[43mobj\u001b[49m\u001b[38;5;241;43m.\u001b[39;49m\u001b[43mxs\u001b[49m\u001b[43m(\u001b[49m\u001b[43mlabel\u001b[49m\u001b[43m,\u001b[49m\u001b[43m \u001b[49m\u001b[43maxis\u001b[49m\u001b[38;5;241;43m=\u001b[39;49m\u001b[43maxis\u001b[49m\u001b[43m)\u001b[49m\n",
      "File \u001b[1;32m~\\anaconda3\\Lib\\site-packages\\pandas\\core\\generic.py:4236\u001b[0m, in \u001b[0;36mNDFrame.xs\u001b[1;34m(self, key, axis, level, drop_level)\u001b[0m\n\u001b[0;32m   4234\u001b[0m             new_index \u001b[38;5;241m=\u001b[39m index[loc]\n\u001b[0;32m   4235\u001b[0m \u001b[38;5;28;01melse\u001b[39;00m:\n\u001b[1;32m-> 4236\u001b[0m     loc \u001b[38;5;241m=\u001b[39m \u001b[43mindex\u001b[49m\u001b[38;5;241;43m.\u001b[39;49m\u001b[43mget_loc\u001b[49m\u001b[43m(\u001b[49m\u001b[43mkey\u001b[49m\u001b[43m)\u001b[49m\n\u001b[0;32m   4238\u001b[0m     \u001b[38;5;28;01mif\u001b[39;00m \u001b[38;5;28misinstance\u001b[39m(loc, np\u001b[38;5;241m.\u001b[39mndarray):\n\u001b[0;32m   4239\u001b[0m         \u001b[38;5;28;01mif\u001b[39;00m loc\u001b[38;5;241m.\u001b[39mdtype \u001b[38;5;241m==\u001b[39m np\u001b[38;5;241m.\u001b[39mbool_:\n",
      "File \u001b[1;32m~\\anaconda3\\Lib\\site-packages\\pandas\\core\\indexes\\base.py:3798\u001b[0m, in \u001b[0;36mIndex.get_loc\u001b[1;34m(self, key)\u001b[0m\n\u001b[0;32m   3793\u001b[0m     \u001b[38;5;28;01mif\u001b[39;00m \u001b[38;5;28misinstance\u001b[39m(casted_key, \u001b[38;5;28mslice\u001b[39m) \u001b[38;5;129;01mor\u001b[39;00m (\n\u001b[0;32m   3794\u001b[0m         \u001b[38;5;28misinstance\u001b[39m(casted_key, abc\u001b[38;5;241m.\u001b[39mIterable)\n\u001b[0;32m   3795\u001b[0m         \u001b[38;5;129;01mand\u001b[39;00m \u001b[38;5;28many\u001b[39m(\u001b[38;5;28misinstance\u001b[39m(x, \u001b[38;5;28mslice\u001b[39m) \u001b[38;5;28;01mfor\u001b[39;00m x \u001b[38;5;129;01min\u001b[39;00m casted_key)\n\u001b[0;32m   3796\u001b[0m     ):\n\u001b[0;32m   3797\u001b[0m         \u001b[38;5;28;01mraise\u001b[39;00m InvalidIndexError(key)\n\u001b[1;32m-> 3798\u001b[0m     \u001b[38;5;28;01mraise\u001b[39;00m \u001b[38;5;167;01mKeyError\u001b[39;00m(key) \u001b[38;5;28;01mfrom\u001b[39;00m \u001b[38;5;21;01merr\u001b[39;00m\n\u001b[0;32m   3799\u001b[0m \u001b[38;5;28;01mexcept\u001b[39;00m \u001b[38;5;167;01mTypeError\u001b[39;00m:\n\u001b[0;32m   3800\u001b[0m     \u001b[38;5;66;03m# If we have a listlike key, _check_indexing_error will raise\u001b[39;00m\n\u001b[0;32m   3801\u001b[0m     \u001b[38;5;66;03m#  InvalidIndexError. Otherwise we fall through and re-raise\u001b[39;00m\n\u001b[0;32m   3802\u001b[0m     \u001b[38;5;66;03m#  the TypeError.\u001b[39;00m\n\u001b[0;32m   3803\u001b[0m     \u001b[38;5;28mself\u001b[39m\u001b[38;5;241m.\u001b[39m_check_indexing_error(key)\n",
      "\u001b[1;31mKeyError\u001b[0m: 0"
     ]
    }
   ],
   "source": [
    "genetic_algorithm(20, 1000, 600, 0.75, 0.05)"
   ]
  },
  {
   "cell_type": "code",
   "execution_count": null,
   "id": "25bc66d2-2fe7-4525-959d-1da0ecfe4887",
   "metadata": {},
   "outputs": [],
   "source": []
  }
 ],
 "metadata": {
  "kernelspec": {
   "display_name": "Python 3 (ipykernel)",
   "language": "python",
   "name": "python3"
  },
  "language_info": {
   "codemirror_mode": {
    "name": "ipython",
    "version": 3
   },
   "file_extension": ".py",
   "mimetype": "text/x-python",
   "name": "python",
   "nbconvert_exporter": "python",
   "pygments_lexer": "ipython3",
   "version": "3.11.5"
  }
 },
 "nbformat": 4,
 "nbformat_minor": 5
}
